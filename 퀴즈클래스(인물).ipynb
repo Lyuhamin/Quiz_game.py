{
 "cells": [
  {
   "cell_type": "code",
   "execution_count": 4,
   "metadata": {},
   "outputs": [],
   "source": [
    "import tkinter as tk\n",
    "from tkinter import*\n",
    "from tkinter import messagebox\n",
    "\n",
    "class Quiz_Character:\n",
    "    def __init__(self, character):\n",
    "        self.character = character\n",
    "        self.character.title(\"인물\")\n",
    "        \n",
    "        self.image = PhotoImage(file='/Users/changtaeyoung/Desktop/python/pic/다운로드.gif')\n",
    "        self.image_label = tk.Label(character, image=self.image)\n",
    "        self.image_label.pack(pady=10)\n",
    "\n",
    "        self.question_label = tk.Label(character,text=\"이 인물은 누구일까요?\", font=(\"Helvetica\", 16))\n",
    "        self.question_label.pack(pady=20)\n",
    "       \n",
    "\n",
    "        self.answer_entry = tk.Entry(character, font=(\"Helvetica\", 16))\n",
    "        self.answer_entry.pack(pady=10)\n",
    "\n",
    "        self.check_button = tk.Button(character, text=\"정답 확인\", command=self.check_answer)\n",
    "        self.check_button.pack(pady=10)\n",
    "\n",
    "    def check_answer(self):\n",
    "        user_answer = self.answer_entry.get()\n",
    "        if user_answer == \"유재석\":\n",
    "            messagebox.showinfo(\"정답\", \"정답입니다!\")\n",
    "        else:\n",
    "            messagebox.showerror(\"오답\", \"틀렸습니다. 정답은 유재석 입니다.\")\n",
    "\n",
    "if __name__ == \"__main__\":\n",
    "    character = tk.Tk()\n",
    "    app = Quiz_Character(character)\n",
    "    character.mainloop()\n",
    "\n"
   ]
  },
  {
   "cell_type": "markdown",
   "metadata": {},
   "source": []
  }
 ],
 "metadata": {
  "kernelspec": {
   "display_name": "base",
   "language": "python",
   "name": "python3"
  },
  "language_info": {
   "codemirror_mode": {
    "name": "ipython",
    "version": 3
   },
   "file_extension": ".py",
   "mimetype": "text/x-python",
   "name": "python",
   "nbconvert_exporter": "python",
   "pygments_lexer": "ipython3",
   "version": "3.11.7"
  }
 },
 "nbformat": 4,
 "nbformat_minor": 2
}
